{
 "cells": [
  {
   "cell_type": "markdown",
   "metadata": {},
   "source": [
    "# Çok Katmanlı Yapay Sinir Ağları Diyabet Teşhisi 150320037 Orçun Or"
   ]
  },
  {
   "cell_type": "markdown",
   "metadata": {},
   "source": [
    "## Gerekli Kütüphanelerin İmport İşlemleri"
   ]
  },
  {
   "cell_type": "code",
   "execution_count": 1,
   "metadata": {},
   "outputs": [],
   "source": [
    "import numpy as np\n",
    "import pandas as pd\n",
    "\n",
    "import re\n",
    "from sklearn.metrics import accuracy_score\n",
    "from sklearn.preprocessing import StandardScaler\n",
    "from sklearn.neural_network import MLPClassifier\n",
    "from sklearn.model_selection import GridSearchCV\n",
    "from sklearn.metrics import mean_squared_error, r2_score\n",
    "import seaborn as sns\n",
    "import matplotlib.pyplot as plt\n",
    "%matplotlib inline\n",
    "from warnings import filterwarnings\n",
    "filterwarnings('ignore')"
   ]
  },
  {
   "cell_type": "markdown",
   "metadata": {},
   "source": [
    "## Veri Gözlemi"
   ]
  },
  {
   "cell_type": "code",
   "execution_count": 2,
   "metadata": {},
   "outputs": [
    {
     "data": {
      "text/html": [
       "<div>\n",
       "<style scoped>\n",
       "    .dataframe tbody tr th:only-of-type {\n",
       "        vertical-align: middle;\n",
       "    }\n",
       "\n",
       "    .dataframe tbody tr th {\n",
       "        vertical-align: top;\n",
       "    }\n",
       "\n",
       "    .dataframe thead th {\n",
       "        text-align: right;\n",
       "    }\n",
       "</style>\n",
       "<table border=\"1\" class=\"dataframe\">\n",
       "  <thead>\n",
       "    <tr style=\"text-align: right;\">\n",
       "      <th></th>\n",
       "      <th>Pregnancies</th>\n",
       "      <th>Glucose</th>\n",
       "      <th>BloodPressure</th>\n",
       "      <th>SkinThickness</th>\n",
       "      <th>Insulin</th>\n",
       "      <th>BMI</th>\n",
       "      <th>DiabetesPedigreeFunction</th>\n",
       "      <th>Age</th>\n",
       "      <th>Outcome</th>\n",
       "    </tr>\n",
       "  </thead>\n",
       "  <tbody>\n",
       "    <tr>\n",
       "      <th>0</th>\n",
       "      <td>6</td>\n",
       "      <td>148</td>\n",
       "      <td>72</td>\n",
       "      <td>35</td>\n",
       "      <td>0</td>\n",
       "      <td>33.6</td>\n",
       "      <td>0.627</td>\n",
       "      <td>50</td>\n",
       "      <td>1</td>\n",
       "    </tr>\n",
       "    <tr>\n",
       "      <th>1</th>\n",
       "      <td>1</td>\n",
       "      <td>85</td>\n",
       "      <td>66</td>\n",
       "      <td>29</td>\n",
       "      <td>0</td>\n",
       "      <td>26.6</td>\n",
       "      <td>0.351</td>\n",
       "      <td>31</td>\n",
       "      <td>0</td>\n",
       "    </tr>\n",
       "    <tr>\n",
       "      <th>2</th>\n",
       "      <td>8</td>\n",
       "      <td>183</td>\n",
       "      <td>64</td>\n",
       "      <td>0</td>\n",
       "      <td>0</td>\n",
       "      <td>23.3</td>\n",
       "      <td>0.672</td>\n",
       "      <td>32</td>\n",
       "      <td>1</td>\n",
       "    </tr>\n",
       "    <tr>\n",
       "      <th>3</th>\n",
       "      <td>1</td>\n",
       "      <td>89</td>\n",
       "      <td>66</td>\n",
       "      <td>23</td>\n",
       "      <td>94</td>\n",
       "      <td>28.1</td>\n",
       "      <td>0.167</td>\n",
       "      <td>21</td>\n",
       "      <td>0</td>\n",
       "    </tr>\n",
       "    <tr>\n",
       "      <th>4</th>\n",
       "      <td>0</td>\n",
       "      <td>137</td>\n",
       "      <td>40</td>\n",
       "      <td>35</td>\n",
       "      <td>168</td>\n",
       "      <td>43.1</td>\n",
       "      <td>2.288</td>\n",
       "      <td>33</td>\n",
       "      <td>1</td>\n",
       "    </tr>\n",
       "  </tbody>\n",
       "</table>\n",
       "</div>"
      ],
      "text/plain": [
       "   Pregnancies  Glucose  BloodPressure  SkinThickness  Insulin   BMI  \\\n",
       "0            6      148             72             35        0  33.6   \n",
       "1            1       85             66             29        0  26.6   \n",
       "2            8      183             64              0        0  23.3   \n",
       "3            1       89             66             23       94  28.1   \n",
       "4            0      137             40             35      168  43.1   \n",
       "\n",
       "   DiabetesPedigreeFunction  Age  Outcome  \n",
       "0                     0.627   50        1  \n",
       "1                     0.351   31        0  \n",
       "2                     0.672   32        1  \n",
       "3                     0.167   21        0  \n",
       "4                     2.288   33        1  "
      ]
     },
     "execution_count": 2,
     "metadata": {},
     "output_type": "execute_result"
    }
   ],
   "source": [
    "diabetes = pd.read_csv(\"diabetes.csv\")\n",
    "df = diabetes.copy()\n",
    "df.head()"
   ]
  },
  {
   "cell_type": "code",
   "execution_count": 3,
   "metadata": {},
   "outputs": [
    {
     "data": {
      "text/html": [
       "<div>\n",
       "<style scoped>\n",
       "    .dataframe tbody tr th:only-of-type {\n",
       "        vertical-align: middle;\n",
       "    }\n",
       "\n",
       "    .dataframe tbody tr th {\n",
       "        vertical-align: top;\n",
       "    }\n",
       "\n",
       "    .dataframe thead th {\n",
       "        text-align: right;\n",
       "    }\n",
       "</style>\n",
       "<table border=\"1\" class=\"dataframe\">\n",
       "  <thead>\n",
       "    <tr style=\"text-align: right;\">\n",
       "      <th></th>\n",
       "      <th>Pregnancies</th>\n",
       "      <th>Glucose</th>\n",
       "      <th>BloodPressure</th>\n",
       "      <th>SkinThickness</th>\n",
       "      <th>Insulin</th>\n",
       "      <th>BMI</th>\n",
       "      <th>DiabetesPedigreeFunction</th>\n",
       "      <th>Age</th>\n",
       "      <th>Outcome</th>\n",
       "    </tr>\n",
       "  </thead>\n",
       "  <tbody>\n",
       "    <tr>\n",
       "      <th>763</th>\n",
       "      <td>10</td>\n",
       "      <td>101</td>\n",
       "      <td>76</td>\n",
       "      <td>48</td>\n",
       "      <td>180</td>\n",
       "      <td>32.9</td>\n",
       "      <td>0.171</td>\n",
       "      <td>63</td>\n",
       "      <td>0</td>\n",
       "    </tr>\n",
       "    <tr>\n",
       "      <th>764</th>\n",
       "      <td>2</td>\n",
       "      <td>122</td>\n",
       "      <td>70</td>\n",
       "      <td>27</td>\n",
       "      <td>0</td>\n",
       "      <td>36.8</td>\n",
       "      <td>0.340</td>\n",
       "      <td>27</td>\n",
       "      <td>0</td>\n",
       "    </tr>\n",
       "    <tr>\n",
       "      <th>765</th>\n",
       "      <td>5</td>\n",
       "      <td>121</td>\n",
       "      <td>72</td>\n",
       "      <td>23</td>\n",
       "      <td>112</td>\n",
       "      <td>26.2</td>\n",
       "      <td>0.245</td>\n",
       "      <td>30</td>\n",
       "      <td>0</td>\n",
       "    </tr>\n",
       "    <tr>\n",
       "      <th>766</th>\n",
       "      <td>1</td>\n",
       "      <td>126</td>\n",
       "      <td>60</td>\n",
       "      <td>0</td>\n",
       "      <td>0</td>\n",
       "      <td>30.1</td>\n",
       "      <td>0.349</td>\n",
       "      <td>47</td>\n",
       "      <td>1</td>\n",
       "    </tr>\n",
       "    <tr>\n",
       "      <th>767</th>\n",
       "      <td>1</td>\n",
       "      <td>93</td>\n",
       "      <td>70</td>\n",
       "      <td>31</td>\n",
       "      <td>0</td>\n",
       "      <td>30.4</td>\n",
       "      <td>0.315</td>\n",
       "      <td>23</td>\n",
       "      <td>0</td>\n",
       "    </tr>\n",
       "  </tbody>\n",
       "</table>\n",
       "</div>"
      ],
      "text/plain": [
       "     Pregnancies  Glucose  BloodPressure  SkinThickness  Insulin   BMI  \\\n",
       "763           10      101             76             48      180  32.9   \n",
       "764            2      122             70             27        0  36.8   \n",
       "765            5      121             72             23      112  26.2   \n",
       "766            1      126             60              0        0  30.1   \n",
       "767            1       93             70             31        0  30.4   \n",
       "\n",
       "     DiabetesPedigreeFunction  Age  Outcome  \n",
       "763                     0.171   63        0  \n",
       "764                     0.340   27        0  \n",
       "765                     0.245   30        0  \n",
       "766                     0.349   47        1  \n",
       "767                     0.315   23        0  "
      ]
     },
     "execution_count": 3,
     "metadata": {},
     "output_type": "execute_result"
    }
   ],
   "source": [
    "df.tail()"
   ]
  },
  {
   "cell_type": "code",
   "execution_count": 4,
   "metadata": {},
   "outputs": [
    {
     "data": {
      "text/html": [
       "<div>\n",
       "<style scoped>\n",
       "    .dataframe tbody tr th:only-of-type {\n",
       "        vertical-align: middle;\n",
       "    }\n",
       "\n",
       "    .dataframe tbody tr th {\n",
       "        vertical-align: top;\n",
       "    }\n",
       "\n",
       "    .dataframe thead th {\n",
       "        text-align: right;\n",
       "    }\n",
       "</style>\n",
       "<table border=\"1\" class=\"dataframe\">\n",
       "  <thead>\n",
       "    <tr style=\"text-align: right;\">\n",
       "      <th></th>\n",
       "      <th>Pregnancies</th>\n",
       "      <th>Glucose</th>\n",
       "      <th>BloodPressure</th>\n",
       "      <th>SkinThickness</th>\n",
       "      <th>Insulin</th>\n",
       "      <th>BMI</th>\n",
       "      <th>DiabetesPedigreeFunction</th>\n",
       "      <th>Age</th>\n",
       "      <th>Outcome</th>\n",
       "    </tr>\n",
       "  </thead>\n",
       "  <tbody>\n",
       "    <tr>\n",
       "      <th>4</th>\n",
       "      <td>0</td>\n",
       "      <td>137</td>\n",
       "      <td>40</td>\n",
       "      <td>35</td>\n",
       "      <td>168</td>\n",
       "      <td>43.1</td>\n",
       "      <td>2.288</td>\n",
       "      <td>33</td>\n",
       "      <td>1</td>\n",
       "    </tr>\n",
       "    <tr>\n",
       "      <th>15</th>\n",
       "      <td>7</td>\n",
       "      <td>100</td>\n",
       "      <td>0</td>\n",
       "      <td>0</td>\n",
       "      <td>0</td>\n",
       "      <td>30.0</td>\n",
       "      <td>0.484</td>\n",
       "      <td>32</td>\n",
       "      <td>1</td>\n",
       "    </tr>\n",
       "    <tr>\n",
       "      <th>183</th>\n",
       "      <td>5</td>\n",
       "      <td>73</td>\n",
       "      <td>60</td>\n",
       "      <td>0</td>\n",
       "      <td>0</td>\n",
       "      <td>26.8</td>\n",
       "      <td>0.268</td>\n",
       "      <td>27</td>\n",
       "      <td>0</td>\n",
       "    </tr>\n",
       "    <tr>\n",
       "      <th>553</th>\n",
       "      <td>1</td>\n",
       "      <td>88</td>\n",
       "      <td>62</td>\n",
       "      <td>24</td>\n",
       "      <td>44</td>\n",
       "      <td>29.9</td>\n",
       "      <td>0.422</td>\n",
       "      <td>23</td>\n",
       "      <td>0</td>\n",
       "    </tr>\n",
       "    <tr>\n",
       "      <th>294</th>\n",
       "      <td>0</td>\n",
       "      <td>161</td>\n",
       "      <td>50</td>\n",
       "      <td>0</td>\n",
       "      <td>0</td>\n",
       "      <td>21.9</td>\n",
       "      <td>0.254</td>\n",
       "      <td>65</td>\n",
       "      <td>0</td>\n",
       "    </tr>\n",
       "    <tr>\n",
       "      <th>604</th>\n",
       "      <td>4</td>\n",
       "      <td>183</td>\n",
       "      <td>0</td>\n",
       "      <td>0</td>\n",
       "      <td>0</td>\n",
       "      <td>28.4</td>\n",
       "      <td>0.212</td>\n",
       "      <td>36</td>\n",
       "      <td>1</td>\n",
       "    </tr>\n",
       "  </tbody>\n",
       "</table>\n",
       "</div>"
      ],
      "text/plain": [
       "     Pregnancies  Glucose  BloodPressure  SkinThickness  Insulin   BMI  \\\n",
       "4              0      137             40             35      168  43.1   \n",
       "15             7      100              0              0        0  30.0   \n",
       "183            5       73             60              0        0  26.8   \n",
       "553            1       88             62             24       44  29.9   \n",
       "294            0      161             50              0        0  21.9   \n",
       "604            4      183              0              0        0  28.4   \n",
       "\n",
       "     DiabetesPedigreeFunction  Age  Outcome  \n",
       "4                       2.288   33        1  \n",
       "15                      0.484   32        1  \n",
       "183                     0.268   27        0  \n",
       "553                     0.422   23        0  \n",
       "294                     0.254   65        0  \n",
       "604                     0.212   36        1  "
      ]
     },
     "execution_count": 4,
     "metadata": {},
     "output_type": "execute_result"
    }
   ],
   "source": [
    "df.sample(6)"
   ]
  },
  {
   "cell_type": "code",
   "execution_count": 8,
   "metadata": {},
   "outputs": [
    {
     "data": {
      "text/plain": [
       "(768, 9)"
      ]
     },
     "execution_count": 8,
     "metadata": {},
     "output_type": "execute_result"
    }
   ],
   "source": [
    "df.shape"
   ]
  },
  {
   "cell_type": "code",
   "execution_count": 9,
   "metadata": {},
   "outputs": [
    {
     "data": {
      "text/plain": [
       "Pregnancies                   int64\n",
       "Glucose                       int64\n",
       "BloodPressure                 int64\n",
       "SkinThickness                 int64\n",
       "Insulin                       int64\n",
       "BMI                         float64\n",
       "DiabetesPedigreeFunction    float64\n",
       "Age                           int64\n",
       "Outcome                       int64\n",
       "dtype: object"
      ]
     },
     "execution_count": 9,
     "metadata": {},
     "output_type": "execute_result"
    }
   ],
   "source": [
    "df.dtypes"
   ]
  },
  {
   "cell_type": "code",
   "execution_count": 10,
   "metadata": {},
   "outputs": [
    {
     "data": {
      "text/plain": [
       "Index(['Pregnancies', 'Glucose', 'BloodPressure', 'SkinThickness', 'Insulin',\n",
       "       'BMI', 'DiabetesPedigreeFunction', 'Age', 'Outcome'],\n",
       "      dtype='object')"
      ]
     },
     "execution_count": 10,
     "metadata": {},
     "output_type": "execute_result"
    }
   ],
   "source": [
    "df.columns"
   ]
  },
  {
   "cell_type": "code",
   "execution_count": 11,
   "metadata": {},
   "outputs": [
    {
     "data": {
      "text/html": [
       "<div>\n",
       "<style scoped>\n",
       "    .dataframe tbody tr th:only-of-type {\n",
       "        vertical-align: middle;\n",
       "    }\n",
       "\n",
       "    .dataframe tbody tr th {\n",
       "        vertical-align: top;\n",
       "    }\n",
       "\n",
       "    .dataframe thead th {\n",
       "        text-align: right;\n",
       "    }\n",
       "</style>\n",
       "<table border=\"1\" class=\"dataframe\">\n",
       "  <thead>\n",
       "    <tr style=\"text-align: right;\">\n",
       "      <th></th>\n",
       "      <th>Pregnancies</th>\n",
       "      <th>Glucose</th>\n",
       "      <th>BloodPressure</th>\n",
       "      <th>SkinThickness</th>\n",
       "      <th>Insulin</th>\n",
       "      <th>BMI</th>\n",
       "      <th>DiabetesPedigreeFunction</th>\n",
       "      <th>Age</th>\n",
       "      <th>Outcome</th>\n",
       "    </tr>\n",
       "  </thead>\n",
       "  <tbody>\n",
       "    <tr>\n",
       "      <th>count</th>\n",
       "      <td>768.000000</td>\n",
       "      <td>768.000000</td>\n",
       "      <td>768.000000</td>\n",
       "      <td>768.000000</td>\n",
       "      <td>768.000000</td>\n",
       "      <td>768.000000</td>\n",
       "      <td>768.000000</td>\n",
       "      <td>768.000000</td>\n",
       "      <td>768.000000</td>\n",
       "    </tr>\n",
       "    <tr>\n",
       "      <th>mean</th>\n",
       "      <td>3.845052</td>\n",
       "      <td>120.894531</td>\n",
       "      <td>69.105469</td>\n",
       "      <td>20.536458</td>\n",
       "      <td>79.799479</td>\n",
       "      <td>31.992578</td>\n",
       "      <td>0.471876</td>\n",
       "      <td>33.240885</td>\n",
       "      <td>0.348958</td>\n",
       "    </tr>\n",
       "    <tr>\n",
       "      <th>std</th>\n",
       "      <td>3.369578</td>\n",
       "      <td>31.972618</td>\n",
       "      <td>19.355807</td>\n",
       "      <td>15.952218</td>\n",
       "      <td>115.244002</td>\n",
       "      <td>7.884160</td>\n",
       "      <td>0.331329</td>\n",
       "      <td>11.760232</td>\n",
       "      <td>0.476951</td>\n",
       "    </tr>\n",
       "    <tr>\n",
       "      <th>min</th>\n",
       "      <td>0.000000</td>\n",
       "      <td>0.000000</td>\n",
       "      <td>0.000000</td>\n",
       "      <td>0.000000</td>\n",
       "      <td>0.000000</td>\n",
       "      <td>0.000000</td>\n",
       "      <td>0.078000</td>\n",
       "      <td>21.000000</td>\n",
       "      <td>0.000000</td>\n",
       "    </tr>\n",
       "    <tr>\n",
       "      <th>25%</th>\n",
       "      <td>1.000000</td>\n",
       "      <td>99.000000</td>\n",
       "      <td>62.000000</td>\n",
       "      <td>0.000000</td>\n",
       "      <td>0.000000</td>\n",
       "      <td>27.300000</td>\n",
       "      <td>0.243750</td>\n",
       "      <td>24.000000</td>\n",
       "      <td>0.000000</td>\n",
       "    </tr>\n",
       "    <tr>\n",
       "      <th>50%</th>\n",
       "      <td>3.000000</td>\n",
       "      <td>117.000000</td>\n",
       "      <td>72.000000</td>\n",
       "      <td>23.000000</td>\n",
       "      <td>30.500000</td>\n",
       "      <td>32.000000</td>\n",
       "      <td>0.372500</td>\n",
       "      <td>29.000000</td>\n",
       "      <td>0.000000</td>\n",
       "    </tr>\n",
       "    <tr>\n",
       "      <th>75%</th>\n",
       "      <td>6.000000</td>\n",
       "      <td>140.250000</td>\n",
       "      <td>80.000000</td>\n",
       "      <td>32.000000</td>\n",
       "      <td>127.250000</td>\n",
       "      <td>36.600000</td>\n",
       "      <td>0.626250</td>\n",
       "      <td>41.000000</td>\n",
       "      <td>1.000000</td>\n",
       "    </tr>\n",
       "    <tr>\n",
       "      <th>max</th>\n",
       "      <td>17.000000</td>\n",
       "      <td>199.000000</td>\n",
       "      <td>122.000000</td>\n",
       "      <td>99.000000</td>\n",
       "      <td>846.000000</td>\n",
       "      <td>67.100000</td>\n",
       "      <td>2.420000</td>\n",
       "      <td>81.000000</td>\n",
       "      <td>1.000000</td>\n",
       "    </tr>\n",
       "  </tbody>\n",
       "</table>\n",
       "</div>"
      ],
      "text/plain": [
       "       Pregnancies     Glucose  BloodPressure  SkinThickness     Insulin  \\\n",
       "count   768.000000  768.000000     768.000000     768.000000  768.000000   \n",
       "mean      3.845052  120.894531      69.105469      20.536458   79.799479   \n",
       "std       3.369578   31.972618      19.355807      15.952218  115.244002   \n",
       "min       0.000000    0.000000       0.000000       0.000000    0.000000   \n",
       "25%       1.000000   99.000000      62.000000       0.000000    0.000000   \n",
       "50%       3.000000  117.000000      72.000000      23.000000   30.500000   \n",
       "75%       6.000000  140.250000      80.000000      32.000000  127.250000   \n",
       "max      17.000000  199.000000     122.000000      99.000000  846.000000   \n",
       "\n",
       "              BMI  DiabetesPedigreeFunction         Age     Outcome  \n",
       "count  768.000000                768.000000  768.000000  768.000000  \n",
       "mean    31.992578                  0.471876   33.240885    0.348958  \n",
       "std      7.884160                  0.331329   11.760232    0.476951  \n",
       "min      0.000000                  0.078000   21.000000    0.000000  \n",
       "25%     27.300000                  0.243750   24.000000    0.000000  \n",
       "50%     32.000000                  0.372500   29.000000    0.000000  \n",
       "75%     36.600000                  0.626250   41.000000    1.000000  \n",
       "max     67.100000                  2.420000   81.000000    1.000000  "
      ]
     },
     "execution_count": 11,
     "metadata": {},
     "output_type": "execute_result"
    }
   ],
   "source": [
    "df.describe()  ## mean --> ortalama\n",
    "               ## std --> standart sapma\n",
    "               ## min --> minimum değer\n",
    "               ## max --> maksimum değer\n",
    "               ## count --> veri sayısı"
   ]
  },
  {
   "cell_type": "code",
   "execution_count": 12,
   "metadata": {},
   "outputs": [
    {
     "name": "stdout",
     "output_type": "stream",
     "text": [
      "Hamilelik sayısı: 768\n"
     ]
    }
   ],
   "source": [
    "print(\"Hamilelik sayısı:\",df['Pregnancies'].count())"
   ]
  },
  {
   "cell_type": "code",
   "execution_count": 13,
   "metadata": {},
   "outputs": [
    {
     "data": {
      "text/plain": [
       "Pregnancies                 0\n",
       "Glucose                     0\n",
       "BloodPressure               0\n",
       "SkinThickness               0\n",
       "Insulin                     0\n",
       "BMI                         0\n",
       "DiabetesPedigreeFunction    0\n",
       "Age                         0\n",
       "Outcome                     0\n",
       "dtype: int64"
      ]
     },
     "execution_count": 13,
     "metadata": {},
     "output_type": "execute_result"
    }
   ],
   "source": [
    "df.isnull().sum() # veri kümesinde eksik değer yok"
   ]
  },
  {
   "cell_type": "markdown",
   "metadata": {},
   "source": [
    "## Veri Görselleştirme"
   ]
  },
  {
   "cell_type": "code",
   "execution_count": 17,
   "metadata": {},
   "outputs": [
    {
     "data": {
      "text/plain": [
       "<matplotlib.axes._subplots.AxesSubplot at 0x246e4eeb8c8>"
      ]
     },
     "execution_count": 17,
     "metadata": {},
     "output_type": "execute_result"
    },
    {
     "data": {
      "image/png": "[encoded data removed]",
      "text/plain": [
       "<Figure size 864x864 with 8 Axes>"
      ]
     },
     "metadata": {
      "needs_background": "light"
     },
     "output_type": "display_data"
    }
   ],
   "source": [
    "plt.figure(figsize=(12,12))\n",
    "plt.subplot(3,3,1)\n",
    "sns.barplot(x='Outcome',y='Glucose',data=df,hue=\"Outcome\")\n",
    "plt.subplot(3,3,2)\n",
    "sns.barplot(x='Outcome',y='BloodPressure',data=df,hue=\"Outcome\")\n",
    "plt.subplot(3,3,3)\n",
    "sns.barplot(x='Outcome',y='SkinThickness',data=df,hue=\"Outcome\")\n",
    "plt.subplot(3,3,4)\n",
    "sns.barplot(x='Outcome',y='BMI',data=df,hue=\"Outcome\")\n",
    "plt.subplot(3,3,5)\n",
    "sns.barplot(x='Outcome',y='DiabetesPedigreeFunction',data=df,hue=\"Outcome\")\n",
    "plt.subplot(3,3,6)\n",
    "sns.barplot(x='Outcome',y='Age',data=df,hue=\"Outcome\")\n",
    "plt.subplot(3,3,7)\n",
    "sns.barplot(x='Outcome',y='Pregnancies',data=df,hue=\"Outcome\")\n",
    "plt.subplot(3,3,8)\n",
    "sns.barplot(x='Outcome',y='Insulin',data=df,hue=\"Outcome\")"
   ]
  },
  {
   "cell_type": "code",
   "execution_count": 18,
   "metadata": {},
   "outputs": [
    {
     "data": {
      "text/plain": [
       "<matplotlib.axes._subplots.AxesSubplot at 0x246e5340848>"
      ]
     },
     "execution_count": 18,
     "metadata": {},
     "output_type": "execute_result"
    },
    {
     "data": {
      "image/png": "[encoded data removed]",
      "text/plain": [
       "<Figure size 432x288 with 1 Axes>"
      ]
     },
     "metadata": {
      "needs_background": "light"
     },
     "output_type": "display_data"
    }
   ],
   "source": [
    "sns.countplot(x=\"Pregnancies\",data=df)"
   ]
  },
  {
   "cell_type": "code",
   "execution_count": 19,
   "metadata": {},
   "outputs": [
    {
     "data": {
      "text/plain": [
       "<matplotlib.axes._subplots.AxesSubplot at 0x246e5080d08>"
      ]
     },
     "execution_count": 19,
     "metadata": {},
     "output_type": "execute_result"
    },
    {
     "data": {
      "image/png": "[encoded data removed]",
      "text/plain": [
       "<Figure size 432x288 with 1 Axes>"
      ]
     },
     "metadata": {
      "needs_background": "light"
     },
     "output_type": "display_data"
    }
   ],
   "source": [
    "sns.countplot(x=\"Outcome\",data=df)"
   ]
  },
  {
   "cell_type": "markdown",
   "metadata": {},
   "source": [
    "## Veri Bölme"
   ]
  },
  {
   "cell_type": "code",
   "execution_count": 5,
   "metadata": {},
   "outputs": [],
   "source": [
    "from sklearn.model_selection import train_test_split, GridSearchCV, cross_val_score\n",
    "X = df.drop(\"Outcome\", axis=1)\n",
    "y = df[\"Outcome\"]\n",
    "X_train, X_test, y_train, y_test = train_test_split (X, y, \n",
    "                                                    test_size=0.30, \n",
    "                                                    random_state=42)\n",
    "\n",
    "## Datasetini train ve test olarak böldüm. %70 train %30 test seti."
   ]
  },
  {
   "cell_type": "code",
   "execution_count": 6,
   "metadata": {},
   "outputs": [
    {
     "data": {
      "text/html": [
       "<div>\n",
       "<style scoped>\n",
       "    .dataframe tbody tr th:only-of-type {\n",
       "        vertical-align: middle;\n",
       "    }\n",
       "\n",
       "    .dataframe tbody tr th {\n",
       "        vertical-align: top;\n",
       "    }\n",
       "\n",
       "    .dataframe thead th {\n",
       "        text-align: right;\n",
       "    }\n",
       "</style>\n",
       "<table border=\"1\" class=\"dataframe\">\n",
       "  <thead>\n",
       "    <tr style=\"text-align: right;\">\n",
       "      <th></th>\n",
       "      <th>Pregnancies</th>\n",
       "      <th>Glucose</th>\n",
       "      <th>BloodPressure</th>\n",
       "      <th>SkinThickness</th>\n",
       "      <th>Insulin</th>\n",
       "      <th>BMI</th>\n",
       "      <th>DiabetesPedigreeFunction</th>\n",
       "      <th>Age</th>\n",
       "    </tr>\n",
       "  </thead>\n",
       "  <tbody>\n",
       "    <tr>\n",
       "      <th>334</th>\n",
       "      <td>1</td>\n",
       "      <td>95</td>\n",
       "      <td>60</td>\n",
       "      <td>18</td>\n",
       "      <td>58</td>\n",
       "      <td>23.9</td>\n",
       "      <td>0.260</td>\n",
       "      <td>22</td>\n",
       "    </tr>\n",
       "    <tr>\n",
       "      <th>139</th>\n",
       "      <td>5</td>\n",
       "      <td>105</td>\n",
       "      <td>72</td>\n",
       "      <td>29</td>\n",
       "      <td>325</td>\n",
       "      <td>36.9</td>\n",
       "      <td>0.159</td>\n",
       "      <td>28</td>\n",
       "    </tr>\n",
       "    <tr>\n",
       "      <th>485</th>\n",
       "      <td>0</td>\n",
       "      <td>135</td>\n",
       "      <td>68</td>\n",
       "      <td>42</td>\n",
       "      <td>250</td>\n",
       "      <td>42.3</td>\n",
       "      <td>0.365</td>\n",
       "      <td>24</td>\n",
       "    </tr>\n",
       "    <tr>\n",
       "      <th>547</th>\n",
       "      <td>4</td>\n",
       "      <td>131</td>\n",
       "      <td>68</td>\n",
       "      <td>21</td>\n",
       "      <td>166</td>\n",
       "      <td>33.1</td>\n",
       "      <td>0.160</td>\n",
       "      <td>28</td>\n",
       "    </tr>\n",
       "    <tr>\n",
       "      <th>18</th>\n",
       "      <td>1</td>\n",
       "      <td>103</td>\n",
       "      <td>30</td>\n",
       "      <td>38</td>\n",
       "      <td>83</td>\n",
       "      <td>43.3</td>\n",
       "      <td>0.183</td>\n",
       "      <td>33</td>\n",
       "    </tr>\n",
       "  </tbody>\n",
       "</table>\n",
       "</div>"
      ],
      "text/plain": [
       "     Pregnancies  Glucose  BloodPressure  SkinThickness  Insulin   BMI  \\\n",
       "334            1       95             60             18       58  23.9   \n",
       "139            5      105             72             29      325  36.9   \n",
       "485            0      135             68             42      250  42.3   \n",
       "547            4      131             68             21      166  33.1   \n",
       "18             1      103             30             38       83  43.3   \n",
       "\n",
       "     DiabetesPedigreeFunction  Age  \n",
       "334                     0.260   22  \n",
       "139                     0.159   28  \n",
       "485                     0.365   24  \n",
       "547                     0.160   28  \n",
       "18                      0.183   33  "
      ]
     },
     "execution_count": 6,
     "metadata": {},
     "output_type": "execute_result"
    }
   ],
   "source": [
    "X_train.head()"
   ]
  },
  {
   "cell_type": "code",
   "execution_count": 7,
   "metadata": {},
   "outputs": [
    {
     "data": {
      "text/plain": [
       "334    0\n",
       "139    0\n",
       "485    1\n",
       "547    0\n",
       "18     0\n",
       "Name: Outcome, dtype: int64"
      ]
     },
     "execution_count": 7,
     "metadata": {},
     "output_type": "execute_result"
    }
   ],
   "source": [
    "y_train.head()"
   ]
  },
  {
   "cell_type": "code",
   "execution_count": 8,
   "metadata": {},
   "outputs": [
    {
     "data": {
      "text/html": [
       "<div>\n",
       "<style scoped>\n",
       "    .dataframe tbody tr th:only-of-type {\n",
       "        vertical-align: middle;\n",
       "    }\n",
       "\n",
       "    .dataframe tbody tr th {\n",
       "        vertical-align: top;\n",
       "    }\n",
       "\n",
       "    .dataframe thead th {\n",
       "        text-align: right;\n",
       "    }\n",
       "</style>\n",
       "<table border=\"1\" class=\"dataframe\">\n",
       "  <thead>\n",
       "    <tr style=\"text-align: right;\">\n",
       "      <th></th>\n",
       "      <th>Pregnancies</th>\n",
       "      <th>Glucose</th>\n",
       "      <th>BloodPressure</th>\n",
       "      <th>SkinThickness</th>\n",
       "      <th>Insulin</th>\n",
       "      <th>BMI</th>\n",
       "      <th>DiabetesPedigreeFunction</th>\n",
       "      <th>Age</th>\n",
       "    </tr>\n",
       "  </thead>\n",
       "  <tbody>\n",
       "    <tr>\n",
       "      <th>619</th>\n",
       "      <td>0</td>\n",
       "      <td>119</td>\n",
       "      <td>0</td>\n",
       "      <td>0</td>\n",
       "      <td>0</td>\n",
       "      <td>32.4</td>\n",
       "      <td>0.141</td>\n",
       "      <td>24</td>\n",
       "    </tr>\n",
       "    <tr>\n",
       "      <th>198</th>\n",
       "      <td>4</td>\n",
       "      <td>109</td>\n",
       "      <td>64</td>\n",
       "      <td>44</td>\n",
       "      <td>99</td>\n",
       "      <td>34.8</td>\n",
       "      <td>0.905</td>\n",
       "      <td>26</td>\n",
       "    </tr>\n",
       "    <tr>\n",
       "      <th>538</th>\n",
       "      <td>0</td>\n",
       "      <td>127</td>\n",
       "      <td>80</td>\n",
       "      <td>37</td>\n",
       "      <td>210</td>\n",
       "      <td>36.3</td>\n",
       "      <td>0.804</td>\n",
       "      <td>23</td>\n",
       "    </tr>\n",
       "    <tr>\n",
       "      <th>329</th>\n",
       "      <td>6</td>\n",
       "      <td>105</td>\n",
       "      <td>70</td>\n",
       "      <td>32</td>\n",
       "      <td>68</td>\n",
       "      <td>30.8</td>\n",
       "      <td>0.122</td>\n",
       "      <td>37</td>\n",
       "    </tr>\n",
       "    <tr>\n",
       "      <th>302</th>\n",
       "      <td>5</td>\n",
       "      <td>77</td>\n",
       "      <td>82</td>\n",
       "      <td>41</td>\n",
       "      <td>42</td>\n",
       "      <td>35.8</td>\n",
       "      <td>0.156</td>\n",
       "      <td>35</td>\n",
       "    </tr>\n",
       "  </tbody>\n",
       "</table>\n",
       "</div>"
      ],
      "text/plain": [
       "     Pregnancies  Glucose  BloodPressure  SkinThickness  Insulin   BMI  \\\n",
       "619            0      119              0              0        0  32.4   \n",
       "198            4      109             64             44       99  34.8   \n",
       "538            0      127             80             37      210  36.3   \n",
       "329            6      105             70             32       68  30.8   \n",
       "302            5       77             82             41       42  35.8   \n",
       "\n",
       "     DiabetesPedigreeFunction  Age  \n",
       "619                     0.141   24  \n",
       "198                     0.905   26  \n",
       "538                     0.804   23  \n",
       "329                     0.122   37  \n",
       "302                     0.156   35  "
      ]
     },
     "execution_count": 8,
     "metadata": {},
     "output_type": "execute_result"
    }
   ],
   "source": [
    "X_test.tail()"
   ]
  },
  {
   "cell_type": "code",
   "execution_count": 9,
   "metadata": {},
   "outputs": [
    {
     "data": {
      "text/plain": [
       "619    1\n",
       "198    1\n",
       "538    0\n",
       "329    0\n",
       "302    0\n",
       "Name: Outcome, dtype: int64"
      ]
     },
     "execution_count": 9,
     "metadata": {},
     "output_type": "execute_result"
    }
   ],
   "source": [
    "y_test.tail()"
   ]
  },
  {
   "cell_type": "markdown",
   "metadata": {},
   "source": [
    "## Standardizasyon"
   ]
  },
  {
   "cell_type": "code",
   "execution_count": 10,
   "metadata": {},
   "outputs": [],
   "source": [
    "from sklearn.preprocessing import StandardScaler  "
   ]
  },
  {
   "cell_type": "code",
   "execution_count": 11,
   "metadata": {},
   "outputs": [],
   "source": [
    "scaler = StandardScaler() ## Standartlaştırma işlemi"
   ]
  },
  {
   "cell_type": "code",
   "execution_count": 12,
   "metadata": {},
   "outputs": [],
   "source": [
    "scaler.fit(X_train)\n",
    "X_train_scaled = scaler.transform(X_train)\n",
    "X_test_scaled = scaler.transform(X_test)"
   ]
  },
  {
   "cell_type": "code",
   "execution_count": 14,
   "metadata": {},
   "outputs": [
    {
     "data": {
      "text/plain": [
       "array([[ 0.69748316, -0.70719864, -0.64639893,  0.81207927,  0.95720244,\n",
       "         0.26575953, -0.11680393,  0.85019217],\n",
       "       [-0.52953881, -0.27388818,  0.29399563,  0.74746428, -0.6936878 ,\n",
       "         0.488933  , -0.94192338, -1.03426754],\n",
       "       [-0.52953881, -0.39769117, -0.31449497, -1.3202154 , -0.6936878 ,\n",
       "        -0.1543317 , -0.91266382, -1.03426754],\n",
       "       [ 1.31099414, -0.42864191,  0.57058226, -1.3202154 , -0.6936878 ,\n",
       "        -0.96825847,  1.12965312,  0.07927683],\n",
       "       [ 1.00423865,  0.46892976,  1.12375553, -1.3202154 , -0.6936878 ,\n",
       "        -0.27248236, -0.76051413,  1.44979298]])"
      ]
     },
     "execution_count": 14,
     "metadata": {},
     "output_type": "execute_result"
    }
   ],
   "source": [
    "X_test_scaled[0:5]"
   ]
  },
  {
   "cell_type": "code",
   "execution_count": 15,
   "metadata": {},
   "outputs": [
    {
     "data": {
      "text/plain": [
       "array([[-0.8362943 , -0.80005088, -0.53576428, -0.15714558, -0.18973183,\n",
       "        -1.06015343, -0.61421636, -0.94861028],\n",
       "       [ 0.39072767, -0.49054341,  0.12804365,  0.55361931,  2.13020339,\n",
       "         0.64646721, -0.90973787, -0.43466673],\n",
       "       [-1.14304979,  0.43797901, -0.09322566,  1.39361417,  1.47853619,\n",
       "         1.35537117, -0.30699103, -0.77729576],\n",
       "       [ 0.08397217,  0.31417602, -0.09322566,  0.03669939,  0.74866893,\n",
       "         0.14760887, -0.90681191, -0.43466673],\n",
       "       [-0.8362943 , -0.5524449 , -2.19528409,  1.13515422,  0.02749057,\n",
       "         1.48664968, -0.83951493, -0.00638043]])"
      ]
     },
     "execution_count": 15,
     "metadata": {},
     "output_type": "execute_result"
    }
   ],
   "source": [
    "X_train_scaled[0:5]"
   ]
  },
  {
   "cell_type": "markdown",
   "metadata": {},
   "source": [
    "## Model&Tahmin"
   ]
  },
  {
   "cell_type": "code",
   "execution_count": 16,
   "metadata": {},
   "outputs": [],
   "source": [
    "from sklearn.neural_network import MLPClassifier"
   ]
  },
  {
   "cell_type": "code",
   "execution_count": 17,
   "metadata": {},
   "outputs": [],
   "source": [
    "mlpc = MLPClassifier().fit(X_train_scaled, y_train)"
   ]
  },
  {
   "cell_type": "code",
   "execution_count": 19,
   "metadata": {
    "collapsed": true
   },
   "outputs": [
    {
     "data": {
      "text/plain": [
       "[array([[ 1.60687148e-01,  2.85841452e-01,  1.71675842e-01,\n",
       "          1.15530742e-01, -2.28982682e-01,  1.37356428e-02,\n",
       "         -5.45608173e-02, -3.14236438e-02,  1.46789904e-01,\n",
       "         -2.55498949e-01, -8.38866021e-02, -1.14994360e-01,\n",
       "         -1.22620170e-02, -1.82747482e-01,  1.67983950e-01,\n",
       "         -9.91900114e-02, -2.31081965e-01, -3.15165546e-02,\n",
       "          6.92271842e-02,  2.18589631e-01,  2.77105046e-01,\n",
       "          9.07681745e-02, -1.95901068e-01,  1.29639708e-01,\n",
       "         -1.70600819e-01, -2.93540996e-01,  1.55323148e-01,\n",
       "         -2.78591274e-01,  1.60746518e-01,  2.91791850e-01,\n",
       "          1.11772102e-01,  9.29443214e-02,  1.61493303e-01,\n",
       "         -1.49277814e-01, -6.98761617e-02,  6.78370551e-02,\n",
       "          4.48644874e-02, -1.92667407e-01,  8.97730380e-02,\n",
       "          2.25240274e-01, -2.39233974e-01, -1.57889042e-01,\n",
       "         -1.10681672e-01,  1.02609555e-01, -2.15637123e-01,\n",
       "         -6.51465760e-02, -2.94344042e-01, -1.17061011e-01,\n",
       "         -3.64562417e-02, -2.59871324e-01, -4.47135393e-01,\n",
       "          2.35128254e-01, -3.68592638e-02, -2.26005268e-01,\n",
       "         -1.08652442e-01,  9.41244156e-02,  3.31159712e-02,\n",
       "         -3.25976562e-01, -4.03697107e-02, -2.37067457e-01,\n",
       "         -1.19225921e-01, -1.44139481e-01, -7.00320660e-02,\n",
       "         -1.70919770e-01, -6.67270839e-02, -2.40970434e-01,\n",
       "         -4.92574253e-02, -4.33091791e-01,  4.82197137e-02,\n",
       "          7.68237420e-02,  3.51238527e-01,  1.02492998e-01,\n",
       "         -5.03522986e-01,  4.78585237e-02, -3.07484997e-02,\n",
       "         -1.91140566e-01, -2.78535354e-02,  2.40851878e-01,\n",
       "         -2.07390029e-01, -2.01650617e-01,  1.21065506e-01,\n",
       "          2.20315987e-01,  2.15611943e-01,  5.67239486e-02,\n",
       "         -1.13632050e-01, -1.65229692e-01,  2.44992254e-01,\n",
       "          9.46903250e-02,  2.18808928e-01,  8.28088454e-02,\n",
       "         -1.09494471e-01, -3.62460852e-01, -1.53270602e-01,\n",
       "         -5.47216519e-02,  2.14960165e-01, -3.15513210e-01,\n",
       "         -1.31019855e-01,  2.34650791e-01,  9.78628910e-02,\n",
       "          4.33203063e-01],\n",
       "        [ 1.14202106e-01,  1.57766129e-02,  1.24672238e-01,\n",
       "          1.74132266e-01, -1.16813155e-01,  2.34124774e-03,\n",
       "         -1.60437936e-01, -2.41445011e-01,  1.62521240e-01,\n",
       "          4.33693075e-01, -1.93491163e-01,  3.85742721e-01,\n",
       "         -1.14965809e-01, -6.66232455e-02,  1.53839364e-01,\n",
       "          5.80965794e-02,  2.81806716e-01, -2.61873576e-01,\n",
       "         -2.16890119e-01,  1.41618891e-02, -2.29389172e-01,\n",
       "          2.57676337e-01, -1.96667565e-01, -6.85655573e-02,\n",
       "          2.66738783e-01, -3.20271014e-02,  9.66479480e-02,\n",
       "          2.28703967e-01, -7.87560157e-02, -7.74948555e-02,\n",
       "          3.71082636e-02,  1.74261023e-02,  6.95835759e-02,\n",
       "         -9.67065687e-02,  4.68573655e-02,  2.81880267e-01,\n",
       "          1.95984453e-01,  1.86478521e-01,  4.49053842e-02,\n",
       "          2.43549119e-01,  4.06456486e-01, -2.12061059e-01,\n",
       "         -2.56213215e-02, -7.35881974e-02, -3.13739733e-01,\n",
       "         -3.92675599e-02, -9.78520407e-03,  2.66156253e-01,\n",
       "          1.56077560e-01, -2.15266156e-01, -2.60132881e-01,\n",
       "         -2.44487406e-01, -2.21207970e-01, -1.56070853e-01,\n",
       "         -1.72530297e-02, -1.98082104e-01, -1.04477761e-01,\n",
       "          1.68447109e-01,  2.58199518e-01,  4.15437259e-02,\n",
       "          3.55659862e-01,  2.50920888e-01,  1.59956952e-01,\n",
       "         -2.23034089e-03,  1.54687757e-01, -1.18783564e-01,\n",
       "         -5.24462659e-02,  2.83786543e-01, -2.14548108e-01,\n",
       "         -3.62299619e-02, -2.35334672e-01, -1.12547224e-02,\n",
       "          3.32835885e-01,  1.28812328e-02, -1.18708502e-01,\n",
       "         -9.59757789e-02, -1.71291836e-01,  2.93809401e-02,\n",
       "          1.93225673e-01, -4.65303099e-02,  9.87498869e-04,\n",
       "         -2.05152804e-01,  8.34981088e-02, -8.53334834e-02,\n",
       "         -1.47282971e-01,  3.57217997e-01,  3.40046372e-01,\n",
       "          2.43703040e-01, -4.38802981e-02, -5.53713159e-02,\n",
       "         -8.56422075e-02, -4.99177290e-02, -1.53397422e-01,\n",
       "          4.72185871e-03,  2.13313613e-01, -4.29165640e-02,\n",
       "          5.35766223e-02,  6.57797873e-02, -2.42055411e-01,\n",
       "         -8.28660118e-02],\n",
       "        [ 5.93386310e-02,  1.44367156e-02,  1.05573263e-01,\n",
       "         -3.23826860e-02,  1.64336252e-01,  2.11473735e-01,\n",
       "          1.20368839e-01, -8.25042027e-02,  1.70000324e-01,\n",
       "          1.74188680e-02,  1.69118263e-01, -1.16170942e-01,\n",
       "         -1.84090059e-01,  1.89820794e-01,  2.58072487e-01,\n",
       "         -1.01112201e-01,  8.64594309e-03, -1.59690647e-01,\n",
       "         -2.49006655e-01, -1.70026994e-01,  1.20342570e-01,\n",
       "         -2.79835977e-01,  8.92566263e-02,  2.21789419e-02,\n",
       "          2.61454913e-01, -7.93250990e-02, -2.92382842e-01,\n",
       "          1.88369062e-01,  4.34691322e-03, -1.09006927e-01,\n",
       "          3.06345576e-01,  2.98784856e-01,  1.75834132e-01,\n",
       "         -1.71133533e-01,  2.73100706e-01, -1.57306848e-01,\n",
       "          1.12903877e-01, -7.85673271e-02, -2.90871307e-02,\n",
       "         -6.60153201e-02, -1.21070632e-01,  9.00168921e-02,\n",
       "          2.41374273e-02,  3.90344245e-01, -1.29756674e-01,\n",
       "         -9.20602169e-02,  3.14043459e-02, -6.41601403e-02,\n",
       "          1.62587579e-01,  9.14841896e-02,  1.45062689e-01,\n",
       "          1.53385677e-01,  2.33631919e-01, -1.51022027e-01,\n",
       "         -1.72990339e-01,  1.28071452e-01,  4.43826384e-01,\n",
       "          4.63872392e-01, -1.49015768e-01,  1.03618633e-01,\n",
       "         -2.59341317e-01, -2.53566454e-01, -9.18981852e-02,\n",
       "         -1.43769064e-01, -7.97751312e-02,  2.44030178e-01,\n",
       "          2.88282129e-01,  2.35329742e-01,  9.07525939e-02,\n",
       "         -2.18418670e-01, -1.10231281e-01, -1.96469428e-01,\n",
       "          2.24086737e-01,  2.21608231e-01,  7.13117658e-02,\n",
       "         -4.77016736e-02, -1.09722986e-02,  1.26765422e-01,\n",
       "         -1.96777428e-01, -1.04890016e-01, -1.96607735e-01,\n",
       "          1.46007053e-02, -2.62339884e-01,  6.51355998e-02,\n",
       "          3.64507888e-01, -2.20638979e-01, -2.81294264e-02,\n",
       "         -2.37151554e-01, -3.16400957e-01,  2.26752696e-01,\n",
       "          5.79807890e-02,  1.27281022e-01, -7.72997806e-02,\n",
       "         -1.03028205e-01,  3.13725904e-01, -2.28165476e-01,\n",
       "          1.00198312e-02,  1.90667010e-01,  2.88838706e-01,\n",
       "         -1.24885769e-01],\n",
       "        [ 1.80267379e-02, -1.96064416e-01, -1.63726605e-01,\n",
       "         -2.54844887e-01, -8.10045601e-02,  8.47628656e-03,\n",
       "          7.53411228e-03,  1.53012128e-01,  4.25738819e-02,\n",
       "         -2.78013802e-01,  9.10871345e-02,  1.09665786e-01,\n",
       "         -5.04375451e-02, -1.28882286e-01,  1.49569966e-01,\n",
       "          9.82782437e-02, -2.55768351e-01,  1.20470207e-01,\n",
       "         -1.22302051e-01,  1.76076851e-01,  1.52830089e-02,\n",
       "         -2.97113180e-01, -3.67025782e-01, -2.45551010e-02,\n",
       "         -4.64998057e-02,  1.51015353e-01,  2.56563693e-01,\n",
       "          6.82872026e-03, -2.70238519e-01, -1.25705462e-01,\n",
       "          6.04994924e-02, -1.02289595e-02, -2.22978021e-01,\n",
       "          1.40694582e-02, -1.51985517e-02, -2.27940002e-01,\n",
       "          2.54911476e-01, -2.44465477e-01, -1.22382659e-01,\n",
       "         -5.42321700e-02, -1.69453685e-01, -2.19522762e-01,\n",
       "          2.09181993e-01,  3.62270423e-02, -1.23692057e-01,\n",
       "         -5.86981474e-02,  1.63336475e-01,  1.28491349e-02,\n",
       "          1.06707277e-01, -2.17528600e-01, -3.74922091e-01,\n",
       "         -6.82547651e-02,  2.69745483e-01, -9.75497964e-02,\n",
       "          1.24235522e-01,  2.41269490e-01, -2.18243469e-01,\n",
       "          1.91166661e-01, -6.64337157e-02, -2.70257954e-01,\n",
       "          2.98506978e-01, -1.30152728e-01, -4.00164828e-02,\n",
       "          2.00149944e-01, -1.62499367e-01, -1.80038436e-01,\n",
       "          7.38347169e-02,  1.76922682e-01, -1.02629341e-02,\n",
       "         -2.11038530e-01,  2.73056470e-01, -2.68003159e-01,\n",
       "          2.17603832e-01, -1.20453150e-01,  4.34907895e-02,\n",
       "         -1.84543219e-01, -4.09096047e-02, -1.59747256e-03,\n",
       "         -3.24780647e-01,  9.07054916e-02,  2.16108161e-02,\n",
       "         -1.19069228e-01, -4.39495919e-02, -2.61298185e-01,\n",
       "         -4.61630785e-01, -2.27202889e-01,  1.80050394e-01,\n",
       "         -1.13181279e-03,  2.21905450e-01, -3.59157071e-01,\n",
       "          2.68472538e-01,  1.92473944e-01,  1.51420268e-01,\n",
       "         -5.84654042e-02,  1.75925583e-01,  4.28200961e-02,\n",
       "         -4.92716564e-02,  1.63228862e-01,  1.92883150e-01,\n",
       "         -2.25758748e-02],\n",
       "        [ 1.99395994e-01, -1.42341304e-01, -1.62247411e-01,\n",
       "         -1.54985898e-01, -2.03613021e-01,  7.09910911e-03,\n",
       "         -1.14007339e-02, -1.22672626e-01, -1.64186634e-01,\n",
       "          3.24133720e-02, -1.35417163e-01, -1.10907475e-01,\n",
       "          8.15013280e-02,  5.32879749e-02,  1.38979467e-01,\n",
       "         -1.33145685e-02, -2.37780771e-01,  1.42684781e-01,\n",
       "          8.39923409e-02, -1.96014649e-01,  4.45287934e-02,\n",
       "         -7.26655185e-02,  2.81200263e-01,  1.65558889e-02,\n",
       "          2.26095520e-01,  1.64290008e-01, -9.59566287e-03,\n",
       "          3.00955143e-01, -1.75489299e-01, -1.12645262e-01,\n",
       "         -2.45758157e-01,  1.48866682e-02,  1.33320432e-01,\n",
       "         -8.26311836e-03,  4.46106393e-02,  7.33327540e-02,\n",
       "          8.52652369e-02, -2.56450373e-01,  1.94858552e-01,\n",
       "          7.36447798e-02, -1.90730742e-01,  1.63569384e-01,\n",
       "          9.51460558e-02,  9.46189660e-02, -2.36308582e-02,\n",
       "          2.34259103e-01, -1.09841244e-01, -3.06286210e-01,\n",
       "          1.40644910e-01,  1.08954447e-01,  1.07786969e-01,\n",
       "          2.76918870e-02,  2.86549187e-01, -1.91119840e-01,\n",
       "          5.48872028e-02, -8.22290596e-02, -7.79552454e-02,\n",
       "          3.88103403e-02, -1.70812009e-01,  1.33062032e-01,\n",
       "         -1.67781994e-01, -4.37123788e-01, -1.32906428e-01,\n",
       "          2.05152496e-01, -4.13621013e-01,  3.68031570e-02,\n",
       "          4.06612651e-02,  1.41261884e-01, -2.97150941e-01,\n",
       "          1.39193053e-01,  4.58123049e-02,  2.76785550e-01,\n",
       "          2.73877740e-01, -6.47370841e-02, -2.21032708e-01,\n",
       "         -5.24753614e-02, -1.44510566e-01, -1.74130642e-01,\n",
       "          2.07981483e-02, -5.73959368e-02, -7.37187136e-02,\n",
       "         -5.49197320e-03, -3.58511325e-02,  1.39007811e-01,\n",
       "          2.04450615e-01, -3.14423095e-05, -2.98251206e-01,\n",
       "         -7.12112039e-02, -1.34181572e-01,  4.30083012e-02,\n",
       "          1.10424434e-01, -3.73262228e-01,  1.62922130e-01,\n",
       "          7.06297336e-02,  2.86607981e-01, -1.54754557e-01,\n",
       "         -5.82379050e-02,  3.47697084e-02, -1.69697245e-01,\n",
       "         -3.13283336e-01],\n",
       "        [ 5.40446457e-02,  1.76633398e-01, -2.61746907e-01,\n",
       "         -5.95708735e-03,  1.21086160e-01,  2.09985577e-01,\n",
       "          2.14431608e-01, -1.22520135e-01,  2.52590946e-01,\n",
       "         -1.47160910e-01, -3.29178076e-02,  1.45335772e-01,\n",
       "         -3.69457543e-01, -2.09037337e-01,  8.64767805e-02,\n",
       "          1.17545759e-02,  3.02400797e-01,  1.65107601e-01,\n",
       "          2.67117426e-01, -3.53252912e-01, -1.04280905e-01,\n",
       "          1.14897561e-01, -8.50818581e-02, -2.13441873e-01,\n",
       "          4.19536683e-02, -1.68156217e-01, -2.02103985e-01,\n",
       "          1.82239266e-01, -1.58412370e-01,  6.39730012e-02,\n",
       "         -1.38045879e-01, -1.05812471e-01, -1.22413639e-01,\n",
       "         -2.72228697e-01,  1.66530151e-01,  6.09413028e-03,\n",
       "         -1.77246591e-01,  2.69438269e-01,  7.39146537e-02,\n",
       "         -1.92090174e-01,  1.58841993e-01, -1.02383278e-01,\n",
       "         -1.46097041e-01,  1.51401432e-01,  9.57805490e-03,\n",
       "          8.80755739e-02, -1.19590356e-01, -2.48767268e-02,\n",
       "          9.88882277e-02, -1.11091274e-01, -1.81445724e-01,\n",
       "         -5.90033471e-02,  1.82898900e-01, -3.54486945e-01,\n",
       "          2.72499813e-01, -1.87875565e-01,  1.63747798e-01,\n",
       "         -2.37725144e-01,  1.26064514e-01, -3.50330808e-03,\n",
       "         -1.70350932e-01,  3.89251801e-02, -2.07431754e-01,\n",
       "         -2.90021415e-01,  2.27057461e-01, -1.20953531e-01,\n",
       "          1.01229806e-01, -2.20065420e-01,  1.23988418e-01,\n",
       "         -2.21059159e-01,  2.01246603e-01, -2.38028601e-01,\n",
       "         -7.51800573e-02,  2.26263161e-01,  7.13515105e-02,\n",
       "          2.67978996e-01, -6.17652138e-02, -2.69983349e-01,\n",
       "         -2.19850118e-01, -1.29885975e-01, -2.88521010e-01,\n",
       "          2.92389913e-01,  1.01956320e-01, -8.93270825e-02,\n",
       "         -1.70956426e-02,  2.68545135e-01, -1.03296622e-01,\n",
       "          1.96209287e-01, -3.82336875e-01,  1.63416020e-01,\n",
       "          5.78448717e-02, -1.03988363e-01, -4.20601474e-02,\n",
       "          2.02836472e-02, -5.47065616e-02, -1.74842732e-01,\n",
       "          9.52976496e-02, -1.54085434e-02, -2.11277361e-01,\n",
       "          2.40970472e-01],\n",
       "        [ 5.51824527e-02,  1.75133260e-01,  1.27818268e-01,\n",
       "          1.28887604e-01,  1.43947446e-01,  5.38571917e-02,\n",
       "         -1.34385264e-01, -1.80001238e-01,  3.02378277e-03,\n",
       "         -2.01211377e-01, -2.75645891e-01, -1.12117510e-01,\n",
       "          6.06830744e-02,  8.52159798e-02, -1.18867657e-02,\n",
       "         -4.52533505e-02,  7.61999066e-02, -1.55574647e-01,\n",
       "          5.61667060e-03, -2.07828607e-01,  3.05049128e-02,\n",
       "          1.00647560e-03, -2.36900342e-01, -2.22796212e-01,\n",
       "          9.43462790e-02, -1.20839972e-01,  3.00431213e-02,\n",
       "         -1.05433391e-01,  1.90063577e-01,  9.69770105e-02,\n",
       "         -3.74231328e-01, -1.36086522e-01,  4.27331353e-03,\n",
       "         -1.24446701e-01, -5.65395792e-03,  1.30580549e-01,\n",
       "          1.83156579e-01,  9.64853280e-02,  2.12633556e-02,\n",
       "         -1.57823827e-01, -6.02299825e-03, -1.46821231e-01,\n",
       "          2.36407128e-02, -5.67489715e-01,  1.06380714e-01,\n",
       "          8.62985773e-02, -1.80309201e-01, -4.40617542e-02,\n",
       "          1.73403267e-01,  3.48786078e-01,  9.98101718e-02,\n",
       "          6.80281787e-02,  1.98897209e-01,  8.88991084e-02,\n",
       "         -1.34735073e-01,  1.29637563e-01,  5.04453563e-02,\n",
       "         -1.02575382e-01,  3.90924728e-02, -8.39018581e-03,\n",
       "          1.09195041e-01, -1.91299026e-01,  2.03614652e-02,\n",
       "         -2.26195787e-01, -4.83512997e-02,  3.00954188e-01,\n",
       "         -3.50337682e-02, -9.13638308e-02,  7.19553034e-02,\n",
       "          3.12572214e-01,  1.77451481e-01,  3.35793436e-01,\n",
       "         -9.48962528e-02, -5.24482819e-02,  1.10406370e-01,\n",
       "          1.37722588e-01, -3.43591949e-01,  1.83158827e-02,\n",
       "         -1.79687639e-02, -6.19323840e-01, -2.56099266e-01,\n",
       "          1.50388016e-01, -2.98385602e-01,  3.88971908e-01,\n",
       "          1.74713887e-01, -1.78900227e-02,  1.64473032e-01,\n",
       "         -1.02498499e-01, -2.96835478e-01,  1.78045424e-01,\n",
       "          1.18090857e-01, -2.36319032e-01, -1.83535258e-02,\n",
       "         -1.55871493e-01,  1.17154102e-01, -2.01705423e-01,\n",
       "          3.01983472e-01, -3.18212636e-01,  3.92668798e-02,\n",
       "          4.54802542e-02],\n",
       "        [-3.42206225e-01,  3.39455814e-01,  6.93307097e-02,\n",
       "         -1.53464579e-01,  1.45608909e-01,  1.92288056e-01,\n",
       "          4.73966013e-02, -3.58401967e-01,  1.60673857e-01,\n",
       "          5.80351242e-02,  3.17302330e-02,  1.72570968e-02,\n",
       "          7.75146732e-02,  1.38857801e-01,  6.81819612e-02,\n",
       "          9.68746214e-03, -3.88215227e-02, -3.97667435e-01,\n",
       "          9.08324223e-02,  2.97046524e-01,  2.57857431e-02,\n",
       "         -1.30803949e-01, -4.82474765e-01, -2.48918550e-01,\n",
       "         -3.02166937e-02, -2.80357143e-01,  3.11410750e-01,\n",
       "         -8.34477233e-02,  5.59705919e-02,  1.09045507e-01,\n",
       "          1.19068508e-01,  2.75526881e-01,  8.36514930e-02,\n",
       "         -1.34333152e-01, -2.81592630e-01,  1.50879516e-01,\n",
       "          4.02542031e-02, -9.82929849e-02, -1.06571174e-01,\n",
       "         -6.17158947e-02,  1.14929863e-02, -4.05313777e-01,\n",
       "         -3.97221198e-01, -1.52199633e-01, -1.36181142e-01,\n",
       "         -7.10858003e-02, -3.90476563e-01, -2.32049022e-01,\n",
       "         -5.36769923e-03, -2.09543334e-01, -4.49603485e-01,\n",
       "         -3.85856394e-02, -3.15910470e-03,  3.89546499e-01,\n",
       "          2.42776735e-01,  7.77831502e-02, -2.55168938e-01,\n",
       "          1.71342158e-01, -1.04612497e-01,  8.57911304e-02,\n",
       "         -1.65518652e-01, -1.38770281e-01,  1.99185552e-01,\n",
       "          1.39378066e-01, -1.48372518e-01, -3.10141480e-01,\n",
       "         -1.16332069e-01,  2.93176853e-01, -3.68945442e-02,\n",
       "         -4.35755386e-03,  5.48947347e-02,  1.09454362e-02,\n",
       "          1.45024426e-01, -2.56287603e-01, -1.63949266e-01,\n",
       "          4.88334565e-02, -3.51416538e-01,  1.86552890e-01,\n",
       "          3.05354382e-02, -1.86856443e-01,  1.26164450e-01,\n",
       "          3.71260290e-02,  3.13461191e-02, -3.08177518e-01,\n",
       "         -4.33851110e-01,  1.05105524e-01, -2.04926141e-01,\n",
       "         -3.73510960e-02,  3.78439917e-01,  2.10747111e-02,\n",
       "         -1.83889049e-02, -2.59770131e-01, -2.95396748e-01,\n",
       "         -5.61867108e-02,  1.11530613e-01, -1.84150564e-01,\n",
       "          2.96536270e-01, -3.49356048e-01,  2.00346220e-01,\n",
       "         -1.97731246e-01]]),\n",
       " array([[-0.30872474],\n",
       "        [-0.28498338],\n",
       "        [-0.12209533],\n",
       "        [ 0.26387199],\n",
       "        [-0.04915511],\n",
       "        [-0.12583251],\n",
       "        [ 0.05327977],\n",
       "        [-0.23375358],\n",
       "        [-0.11409247],\n",
       "        [ 0.24149312],\n",
       "        [-0.18006082],\n",
       "        [ 0.18759748],\n",
       "        [-0.24969988],\n",
       "        [ 0.18816882],\n",
       "        [ 0.13766894],\n",
       "        [-0.10405132],\n",
       "        [ 0.22987932],\n",
       "        [-0.30048708],\n",
       "        [ 0.11450975],\n",
       "        [-0.30262084],\n",
       "        [ 0.28461062],\n",
       "        [ 0.2505847 ],\n",
       "        [-0.28097461],\n",
       "        [-0.19763567],\n",
       "        [ 0.29395901],\n",
       "        [-0.32045182],\n",
       "        [-0.21811911],\n",
       "        [ 0.35316924],\n",
       "        [-0.04705906],\n",
       "        [ 0.20368388],\n",
       "        [-0.4117411 ],\n",
       "        [ 0.10731049],\n",
       "        [-0.08227267],\n",
       "        [-0.38394742],\n",
       "        [-0.26289071],\n",
       "        [ 0.24834384],\n",
       "        [ 0.18879162],\n",
       "        [ 0.35480164],\n",
       "        [ 0.17214166],\n",
       "        [ 0.35333024],\n",
       "        [ 0.18970756],\n",
       "        [-0.37932017],\n",
       "        [-0.31201095],\n",
       "        [-0.32751574],\n",
       "        [-0.29408299],\n",
       "        [ 0.07057302],\n",
       "        [-0.24239562],\n",
       "        [ 0.13259645],\n",
       "        [ 0.32936683],\n",
       "        [-0.15575981],\n",
       "        [-0.29736591],\n",
       "        [ 0.15800279],\n",
       "        [ 0.15048357],\n",
       "        [-0.21820825],\n",
       "        [ 0.16534002],\n",
       "        [ 0.14020693],\n",
       "        [-0.3413659 ],\n",
       "        [ 0.41362101],\n",
       "        [ 0.30937432],\n",
       "        [ 0.04403357],\n",
       "        [ 0.31876017],\n",
       "        [ 0.24799077],\n",
       "        [-0.18076816],\n",
       "        [-0.29765695],\n",
       "        [ 0.51498475],\n",
       "        [-0.26390981],\n",
       "        [-0.28009993],\n",
       "        [ 0.48889037],\n",
       "        [-0.21523273],\n",
       "        [-0.39057029],\n",
       "        [ 0.3903786 ],\n",
       "        [-0.27999786],\n",
       "        [ 0.22765616],\n",
       "        [-0.15686046],\n",
       "        [-0.099965  ],\n",
       "        [ 0.26263639],\n",
       "        [-0.27919275],\n",
       "        [-0.22914323],\n",
       "        [ 0.14590563],\n",
       "        [-0.33787869],\n",
       "        [-0.14321149],\n",
       "        [ 0.23016099],\n",
       "        [-0.24037379],\n",
       "        [-0.45190156],\n",
       "        [-0.44018078],\n",
       "        [ 0.14289485],\n",
       "        [ 0.44902791],\n",
       "        [ 0.18848667],\n",
       "        [-0.26770446],\n",
       "        [-0.50747616],\n",
       "        [ 0.20926444],\n",
       "        [-0.32941724],\n",
       "        [-0.32646059],\n",
       "        [-0.09028966],\n",
       "        [ 0.20225443],\n",
       "        [-0.12094868],\n",
       "        [-0.28875882],\n",
       "        [-0.16609925],\n",
       "        [-0.24490317],\n",
       "        [ 0.22566215]])]"
      ]
     },
     "execution_count": 19,
     "metadata": {},
     "output_type": "execute_result"
    }
   ],
   "source": [
    "mlpc.coefs_   #Sinir ağının kullannmış olduğu katsayılar beta0"
   ]
  },
  {
   "cell_type": "code",
   "execution_count": 21,
   "metadata": {
    "collapsed": true
   },
   "outputs": [
    {
     "data": {
      "text/plain": [
       "[array([-0.37555385, -0.50587153,  0.14468538,  0.05395397, -0.27405529,\n",
       "         0.0428676 ,  0.21207441,  0.35008558,  0.03057835,  0.33805647,\n",
       "         0.18467675,  0.11244939,  0.08364   ,  0.15032115, -0.23606692,\n",
       "         0.19838103,  0.2860202 ,  0.19333977,  0.00413131, -0.20476589,\n",
       "         0.14193495,  0.05825241,  0.06068242,  0.21301193, -0.07184702,\n",
       "         0.32434722, -0.10665927, -0.10345214, -0.17423985,  0.09107355,\n",
       "        -0.17079943,  0.26360142, -0.08453674,  0.03144877,  0.34708306,\n",
       "        -0.01678532,  0.25500248,  0.21453106,  0.13297252,  0.02568195,\n",
       "         0.29212922,  0.12395314,  0.15996468, -0.06669703, -0.02480022,\n",
       "        -0.25206474, -0.03149494, -0.14796543,  0.05912783,  0.16917025,\n",
       "        -0.14094144,  0.13682241, -0.09415791, -0.14290409,  0.18617851,\n",
       "         0.13751574, -0.04080064, -0.18268905,  0.22815819,  0.18967749,\n",
       "         0.06865989,  0.15118591, -0.00240183,  0.28342152, -0.10416063,\n",
       "         0.0160547 ,  0.14313805, -0.01430021,  0.08169934,  0.12083891,\n",
       "        -0.23962983,  0.13817587, -0.19843936,  0.12574278,  0.09085861,\n",
       "         0.23955054,  0.08722926, -0.10110146,  0.07894767, -0.14922836,\n",
       "         0.20991148,  0.14324361,  0.16842386,  0.13402337, -0.00457571,\n",
       "         0.30964764,  0.20515947,  0.25765399, -0.1119489 , -0.36796436,\n",
       "         0.00141537, -0.08064305,  0.02904348, -0.00231995, -0.18630681,\n",
       "         0.14631821, -0.19846534, -0.01852227,  0.0571189 ,  0.13733241]),\n",
       " array([-0.27359513])]"
      ]
     },
     "execution_count": 21,
     "metadata": {},
     "output_type": "execute_result"
    }
   ],
   "source": [
    "mlpc.intercepts_ #Sinir ağının kullannmış olduğu katsayılar beta1"
   ]
  },
  {
   "cell_type": "code",
   "execution_count": 22,
   "metadata": {},
   "outputs": [
    {
     "name": "stdout",
     "output_type": "stream",
     "text": [
      "Doğruluk oranı: 72.72727272727273\n"
     ]
    }
   ],
   "source": [
    "y_pred = mlpc.predict(X_test_scaled)\n",
    "print(\"Doğruluk oranı: \" + str(accuracy_score(y_test, y_pred)*100)) \n",
    "## Tahmin ettiğim çıkış değerlerini gerçek çıkış değerleriyle karşılaştırıyorum."
   ]
  },
  {
   "cell_type": "markdown",
   "metadata": {},
   "source": [
    "## Model Tuning"
   ]
  },
  {
   "cell_type": "code",
   "execution_count": 23,
   "metadata": {},
   "outputs": [
    {
     "data": {
      "text/plain": [
       "MLPClassifier(activation='relu', alpha=0.0001, batch_size='auto', beta_1=0.9,\n",
       "              beta_2=0.999, early_stopping=False, epsilon=1e-08,\n",
       "              hidden_layer_sizes=(100,), learning_rate='constant',\n",
       "              learning_rate_init=0.001, max_fun=15000, max_iter=200,\n",
       "              momentum=0.9, n_iter_no_change=10, nesterovs_momentum=True,\n",
       "              power_t=0.5, random_state=None, shuffle=True, solver='adam',\n",
       "              tol=0.0001, validation_fraction=0.1, verbose=False,\n",
       "              warm_start=False)"
      ]
     },
     "execution_count": 23,
     "metadata": {},
     "output_type": "execute_result"
    }
   ],
   "source": [
    "mlpc"
   ]
  },
  {
   "cell_type": "code",
   "execution_count": 24,
   "metadata": {},
   "outputs": [],
   "source": [
    "mlpc_params = {\"alpha\": [0.1, 1, 0.01, 0.005, 0.0001,0.00001],\n",
    "              \"hidden_layer_sizes\": [(10,10,10),\n",
    "                                     (10,10),\n",
    "                                     (50,50,50),\n",
    "                                     (100,100),\n",
    "                                     ],\n",
    "              \"solver\" : [\"lbfgs\",\"adam\",],\n",
    "              \"activation\": [\"relu\",\"logistic\",\"tanh\"]}"
   ]
  },
  {
   "cell_type": "code",
   "execution_count": 26,
   "metadata": {},
   "outputs": [
    {
     "name": "stdout",
     "output_type": "stream",
     "text": [
      "Fitting 5 folds for each of 144 candidates, totalling 720 fits\n"
     ]
    },
    {
     "name": "stderr",
     "output_type": "stream",
     "text": [
      "[Parallel(n_jobs=-1)]: Using backend LokyBackend with 4 concurrent workers.\n",
      "[Parallel(n_jobs=-1)]: Done  33 tasks      | elapsed:   18.0s\n",
      "[Parallel(n_jobs=-1)]: Done 154 tasks      | elapsed:  1.5min\n",
      "[Parallel(n_jobs=-1)]: Done 357 tasks      | elapsed:  3.0min\n",
      "[Parallel(n_jobs=-1)]: Done 640 tasks      | elapsed:  5.2min\n",
      "[Parallel(n_jobs=-1)]: Done 720 out of 720 | elapsed:  5.8min finished\n"
     ]
    },
    {
     "data": {
      "text/plain": [
       "GridSearchCV(cv=5, error_score=nan,\n",
       "             estimator=MLPClassifier(activation='relu', alpha=0.0001,\n",
       "                                     batch_size='auto', beta_1=0.9,\n",
       "                                     beta_2=0.999, early_stopping=False,\n",
       "                                     epsilon=1e-08, hidden_layer_sizes=(100,),\n",
       "                                     learning_rate='constant',\n",
       "                                     learning_rate_init=0.001, max_fun=15000,\n",
       "                                     max_iter=200, momentum=0.9,\n",
       "                                     n_iter_no_change=10,\n",
       "                                     nesterovs_momentum=True, power_t=0.5,\n",
       "                                     random_state...\n",
       "                                     solver='adam', tol=0.0001,\n",
       "                                     validation_fraction=0.1, verbose=False,\n",
       "                                     warm_start=False),\n",
       "             iid='deprecated', n_jobs=-1,\n",
       "             param_grid={'activation': ['relu', 'logistic', 'tanh'],\n",
       "                         'alpha': [0.1, 1, 0.01, 0.005, 0.0001, 1e-05],\n",
       "                         'hidden_layer_sizes': [(10, 10, 10), (10, 10),\n",
       "                                                (50, 50, 50), (100, 100)],\n",
       "                         'solver': ['lbfgs', 'adam']},\n",
       "             pre_dispatch='2*n_jobs', refit=True, return_train_score=False,\n",
       "             scoring=None, verbose=2)"
      ]
     },
     "execution_count": 26,
     "metadata": {},
     "output_type": "execute_result"
    }
   ],
   "source": [
    "mlpc = MLPClassifier()\n",
    "mlpc_cv_model = GridSearchCV(mlpc, mlpc_params, \n",
    "                         cv = 5, \n",
    "                         n_jobs = -1,\n",
    "                         verbose = 2)\n",
    "\n",
    "mlpc_cv_model.fit(X_train_scaled, y_train)"
   ]
  },
  {
   "cell_type": "code",
   "execution_count": 27,
   "metadata": {},
   "outputs": [
    {
     "name": "stdout",
     "output_type": "stream",
     "text": [
      "En iyi parametreler: {'activation': 'tanh', 'alpha': 1, 'hidden_layer_sizes': (50, 50, 50), 'solver': 'adam'}\n"
     ]
    }
   ],
   "source": [
    "print(\"En iyi parametreler: \" + str(mlpc_cv_model.best_params_))"
   ]
  },
  {
   "cell_type": "code",
   "execution_count": 28,
   "metadata": {},
   "outputs": [],
   "source": [
    "mlpc_tuned = MLPClassifier(activation = \"tanh\", \n",
    "                           alpha = 1, \n",
    "                           hidden_layer_sizes = (50,50,50),\n",
    "                          solver = \"adam\")"
   ]
  },
  {
   "cell_type": "code",
   "execution_count": 32,
   "metadata": {},
   "outputs": [
    {
     "data": {
      "text/plain": [
       "MLPClassifier(activation='tanh', alpha=1, batch_size='auto', beta_1=0.9,\n",
       "              beta_2=0.999, early_stopping=False, epsilon=1e-08,\n",
       "              hidden_layer_sizes=(50, 50, 50), learning_rate='constant',\n",
       "              learning_rate_init=0.001, max_fun=15000, max_iter=200,\n",
       "              momentum=0.9, n_iter_no_change=10, nesterovs_momentum=True,\n",
       "              power_t=0.5, random_state=None, shuffle=True, solver='adam',\n",
       "              tol=0.0001, validation_fraction=0.1, verbose=False,\n",
       "              warm_start=False)"
      ]
     },
     "execution_count": 32,
     "metadata": {},
     "output_type": "execute_result"
    }
   ],
   "source": [
    "mlpc_tuned.fit(X_train_scaled, y_train)"
   ]
  },
  {
   "cell_type": "code",
   "execution_count": 33,
   "metadata": {},
   "outputs": [
    {
     "name": "stdout",
     "output_type": "stream",
     "text": [
      "Doğruluk oranı : 75.75757575757575\n"
     ]
    }
   ],
   "source": [
    "y_pred = mlpc_tuned.predict(X_test_scaled)\n",
    "print(\"Doğruluk oranı : \" + str(accuracy_score(y_test, y_pred)*100))"
   ]
  },
  {
   "cell_type": "code",
   "execution_count": 34,
   "metadata": {},
   "outputs": [
    {
     "name": "stdout",
     "output_type": "stream",
     "text": [
      "Hata Oranı : 0.49236596391733095\n"
     ]
    }
   ],
   "source": [
    "print(\"Hata Oranı : \" + str(np.sqrt(mean_squared_error(y_test, y_pred))))\n"
   ]
  },
  {
   "cell_type": "code",
   "execution_count": 35,
   "metadata": {},
   "outputs": [
    {
     "data": {
      "text/html": [
       "<div>\n",
       "<style scoped>\n",
       "    .dataframe tbody tr th:only-of-type {\n",
       "        vertical-align: middle;\n",
       "    }\n",
       "\n",
       "    .dataframe tbody tr th {\n",
       "        vertical-align: top;\n",
       "    }\n",
       "\n",
       "    .dataframe thead th {\n",
       "        text-align: right;\n",
       "    }\n",
       "</style>\n",
       "<table border=\"1\" class=\"dataframe\">\n",
       "  <thead>\n",
       "    <tr style=\"text-align: right;\">\n",
       "      <th></th>\n",
       "      <th>Pregnancies</th>\n",
       "      <th>Glucose</th>\n",
       "      <th>BloodPressure</th>\n",
       "      <th>SkinThickness</th>\n",
       "      <th>Insulin</th>\n",
       "      <th>BMI</th>\n",
       "      <th>DiabetesPedigreeFunction</th>\n",
       "      <th>Age</th>\n",
       "    </tr>\n",
       "  </thead>\n",
       "  <tbody>\n",
       "    <tr>\n",
       "      <th>668</th>\n",
       "      <td>6</td>\n",
       "      <td>98</td>\n",
       "      <td>58</td>\n",
       "      <td>33</td>\n",
       "      <td>190</td>\n",
       "      <td>34.0</td>\n",
       "      <td>0.430</td>\n",
       "      <td>43</td>\n",
       "    </tr>\n",
       "    <tr>\n",
       "      <th>324</th>\n",
       "      <td>2</td>\n",
       "      <td>112</td>\n",
       "      <td>75</td>\n",
       "      <td>32</td>\n",
       "      <td>0</td>\n",
       "      <td>35.7</td>\n",
       "      <td>0.148</td>\n",
       "      <td>21</td>\n",
       "    </tr>\n",
       "    <tr>\n",
       "      <th>624</th>\n",
       "      <td>2</td>\n",
       "      <td>108</td>\n",
       "      <td>64</td>\n",
       "      <td>0</td>\n",
       "      <td>0</td>\n",
       "      <td>30.8</td>\n",
       "      <td>0.158</td>\n",
       "      <td>21</td>\n",
       "    </tr>\n",
       "    <tr>\n",
       "      <th>690</th>\n",
       "      <td>8</td>\n",
       "      <td>107</td>\n",
       "      <td>80</td>\n",
       "      <td>0</td>\n",
       "      <td>0</td>\n",
       "      <td>24.6</td>\n",
       "      <td>0.856</td>\n",
       "      <td>34</td>\n",
       "    </tr>\n",
       "    <tr>\n",
       "      <th>473</th>\n",
       "      <td>7</td>\n",
       "      <td>136</td>\n",
       "      <td>90</td>\n",
       "      <td>0</td>\n",
       "      <td>0</td>\n",
       "      <td>29.9</td>\n",
       "      <td>0.210</td>\n",
       "      <td>50</td>\n",
       "    </tr>\n",
       "    <tr>\n",
       "      <th>...</th>\n",
       "      <td>...</td>\n",
       "      <td>...</td>\n",
       "      <td>...</td>\n",
       "      <td>...</td>\n",
       "      <td>...</td>\n",
       "      <td>...</td>\n",
       "      <td>...</td>\n",
       "      <td>...</td>\n",
       "    </tr>\n",
       "    <tr>\n",
       "      <th>619</th>\n",
       "      <td>0</td>\n",
       "      <td>119</td>\n",
       "      <td>0</td>\n",
       "      <td>0</td>\n",
       "      <td>0</td>\n",
       "      <td>32.4</td>\n",
       "      <td>0.141</td>\n",
       "      <td>24</td>\n",
       "    </tr>\n",
       "    <tr>\n",
       "      <th>198</th>\n",
       "      <td>4</td>\n",
       "      <td>109</td>\n",
       "      <td>64</td>\n",
       "      <td>44</td>\n",
       "      <td>99</td>\n",
       "      <td>34.8</td>\n",
       "      <td>0.905</td>\n",
       "      <td>26</td>\n",
       "    </tr>\n",
       "    <tr>\n",
       "      <th>538</th>\n",
       "      <td>0</td>\n",
       "      <td>127</td>\n",
       "      <td>80</td>\n",
       "      <td>37</td>\n",
       "      <td>210</td>\n",
       "      <td>36.3</td>\n",
       "      <td>0.804</td>\n",
       "      <td>23</td>\n",
       "    </tr>\n",
       "    <tr>\n",
       "      <th>329</th>\n",
       "      <td>6</td>\n",
       "      <td>105</td>\n",
       "      <td>70</td>\n",
       "      <td>32</td>\n",
       "      <td>68</td>\n",
       "      <td>30.8</td>\n",
       "      <td>0.122</td>\n",
       "      <td>37</td>\n",
       "    </tr>\n",
       "    <tr>\n",
       "      <th>302</th>\n",
       "      <td>5</td>\n",
       "      <td>77</td>\n",
       "      <td>82</td>\n",
       "      <td>41</td>\n",
       "      <td>42</td>\n",
       "      <td>35.8</td>\n",
       "      <td>0.156</td>\n",
       "      <td>35</td>\n",
       "    </tr>\n",
       "  </tbody>\n",
       "</table>\n",
       "<p>231 rows × 8 columns</p>\n",
       "</div>"
      ],
      "text/plain": [
       "     Pregnancies  Glucose  BloodPressure  SkinThickness  Insulin   BMI  \\\n",
       "668            6       98             58             33      190  34.0   \n",
       "324            2      112             75             32        0  35.7   \n",
       "624            2      108             64              0        0  30.8   \n",
       "690            8      107             80              0        0  24.6   \n",
       "473            7      136             90              0        0  29.9   \n",
       "..           ...      ...            ...            ...      ...   ...   \n",
       "619            0      119              0              0        0  32.4   \n",
       "198            4      109             64             44       99  34.8   \n",
       "538            0      127             80             37      210  36.3   \n",
       "329            6      105             70             32       68  30.8   \n",
       "302            5       77             82             41       42  35.8   \n",
       "\n",
       "     DiabetesPedigreeFunction  Age  \n",
       "668                     0.430   43  \n",
       "324                     0.148   21  \n",
       "624                     0.158   21  \n",
       "690                     0.856   34  \n",
       "473                     0.210   50  \n",
       "..                        ...  ...  \n",
       "619                     0.141   24  \n",
       "198                     0.905   26  \n",
       "538                     0.804   23  \n",
       "329                     0.122   37  \n",
       "302                     0.156   35  \n",
       "\n",
       "[231 rows x 8 columns]"
      ]
     },
     "execution_count": 35,
     "metadata": {},
     "output_type": "execute_result"
    }
   ],
   "source": [
    "X_test"
   ]
  },
  {
   "cell_type": "code",
   "execution_count": 36,
   "metadata": {},
   "outputs": [
    {
     "data": {
      "text/plain": [
       "array([0, 0, 0, 0, 0, 0, 0, 1, 1, 1, 0, 1, 0, 0, 0, 0, 0, 0, 1, 1, 0, 0,\n",
       "       0, 0, 1, 1, 0, 0, 0, 0, 1, 1, 1, 1, 1, 1, 1, 0, 0, 1, 0, 1, 0, 0,\n",
       "       0, 1, 1, 0, 0, 1, 0, 1, 1, 0, 0, 0, 1, 0, 0, 1, 1, 0, 0, 0, 0, 1,\n",
       "       0, 1, 0, 1, 1, 0, 0, 0, 0, 0, 0, 0, 0, 0, 1, 0, 0, 0, 0, 1, 1, 0,\n",
       "       0, 0, 0, 0, 0, 1, 0, 1, 0, 0, 0, 0, 1, 0, 1, 1, 1, 0, 0, 1, 0, 1,\n",
       "       0, 0, 0, 1, 0, 0, 1, 0, 0, 1, 0, 0, 0, 0, 0, 0, 0, 1, 1, 1, 1, 1,\n",
       "       0, 0, 1, 0, 0, 1, 1, 0, 0, 0, 0, 0, 0, 0, 0, 0, 0, 1, 0, 0, 0, 0,\n",
       "       0, 0, 0, 1, 1, 0, 1, 1, 0, 0, 0, 1, 0, 0, 1, 1, 1, 0, 0, 1, 1, 0,\n",
       "       0, 0, 0, 0, 0, 1, 0, 1, 1, 0, 0, 0, 1, 0, 0, 0, 1, 0, 0, 0, 0, 0,\n",
       "       0, 1, 0, 0, 0, 0, 1, 0, 0, 0, 1, 0, 0, 0, 0, 0, 1, 0, 0, 0, 0, 1,\n",
       "       1, 0, 0, 0, 0, 1, 0, 0, 0, 0, 0], dtype=int64)"
      ]
     },
     "execution_count": 36,
     "metadata": {},
     "output_type": "execute_result"
    }
   ],
   "source": [
    "y_final = mlpc_tuned.predict(X_test_scaled)\n",
    "\n",
    "y_final"
   ]
  },
  {
   "cell_type": "code",
   "execution_count": 37,
   "metadata": {},
   "outputs": [],
   "source": [
    "submission = pd.DataFrame({\n",
    "        \"Outcome\": y_final\n",
    "    })\n",
    "submission.head()\n",
    "submission.to_csv('diabetes2.csv', index=False)"
   ]
  },
  {
   "cell_type": "code",
   "execution_count": 38,
   "metadata": {},
   "outputs": [],
   "source": [
    "from sklearn.metrics import classification_report"
   ]
  },
  {
   "cell_type": "code",
   "execution_count": 39,
   "metadata": {},
   "outputs": [
    {
     "name": "stdout",
     "output_type": "stream",
     "text": [
      "              precision    recall  f1-score   support\n",
      "\n",
      "           0       0.80      0.83      0.82       151\n",
      "           1       0.66      0.61      0.64        80\n",
      "\n",
      "    accuracy                           0.76       231\n",
      "   macro avg       0.73      0.72      0.73       231\n",
      "weighted avg       0.75      0.76      0.76       231\n",
      "\n"
     ]
    }
   ],
   "source": [
    "print(classification_report(y_test, y_pred))"
   ]
  },
  {
   "cell_type": "markdown",
   "metadata": {},
   "source": [
    "## Hastalık Teşhisi"
   ]
  },
  {
   "cell_type": "code",
   "execution_count": 40,
   "metadata": {},
   "outputs": [
    {
     "data": {
      "text/html": [
       "<div>\n",
       "<style scoped>\n",
       "    .dataframe tbody tr th:only-of-type {\n",
       "        vertical-align: middle;\n",
       "    }\n",
       "\n",
       "    .dataframe tbody tr th {\n",
       "        vertical-align: top;\n",
       "    }\n",
       "\n",
       "    .dataframe thead th {\n",
       "        text-align: right;\n",
       "    }\n",
       "</style>\n",
       "<table border=\"1\" class=\"dataframe\">\n",
       "  <thead>\n",
       "    <tr style=\"text-align: right;\">\n",
       "      <th></th>\n",
       "      <th>Pregnancies</th>\n",
       "      <th>Glucose</th>\n",
       "      <th>BloodPressure</th>\n",
       "      <th>SkinThickness</th>\n",
       "      <th>Insulin</th>\n",
       "      <th>BMI</th>\n",
       "      <th>DiabetesPedigreeFunction</th>\n",
       "      <th>Age</th>\n",
       "    </tr>\n",
       "  </thead>\n",
       "  <tbody>\n",
       "    <tr>\n",
       "      <th>800</th>\n",
       "      <td>6</td>\n",
       "      <td>148</td>\n",
       "      <td>72</td>\n",
       "      <td>35</td>\n",
       "      <td>0</td>\n",
       "      <td>33.6</td>\n",
       "      <td>0.627</td>\n",
       "      <td>50</td>\n",
       "    </tr>\n",
       "  </tbody>\n",
       "</table>\n",
       "</div>"
      ],
      "text/plain": [
       "     Pregnancies  Glucose  BloodPressure  SkinThickness  Insulin   BMI  \\\n",
       "800            6      148             72             35        0  33.6   \n",
       "\n",
       "     DiabetesPedigreeFunction  Age  \n",
       "800                     0.627   50  "
      ]
     },
     "execution_count": 40,
     "metadata": {},
     "output_type": "execute_result"
    }
   ],
   "source": [
    "from collections import OrderedDict\n",
    "new_data = OrderedDict([\n",
    "    ('Pregnancies', 6),\n",
    "    ('Glucose', 148),\n",
    "    ('BloodPressure', 72),\n",
    "    ('SkinThickness', 35),\n",
    "    ('Insulin', 0),\n",
    "    ('BMI', 33.6),\n",
    "    ('DiabetesPedigreeFunction', 0.627),\n",
    "    ('Age', 50)\n",
    "])\n",
    "\n",
    "\n",
    "new_df_data = pd.DataFrame(data = new_data, index = [\"800\"] , columns = [\"Pregnancies\",\"Glucose\",\"BloodPressure\",\"SkinThickness\",\"Insulin\",\"BMI\",\"DiabetesPedigreeFunction\",\"Age\"])\n",
    "new_df_data"
   ]
  },
  {
   "cell_type": "code",
   "execution_count": 41,
   "metadata": {},
   "outputs": [],
   "source": [
    "X_teshis_person = X_test.append(new_df_data)"
   ]
  },
  {
   "cell_type": "code",
   "execution_count": 42,
   "metadata": {},
   "outputs": [
    {
     "data": {
      "text/html": [
       "<div>\n",
       "<style scoped>\n",
       "    .dataframe tbody tr th:only-of-type {\n",
       "        vertical-align: middle;\n",
       "    }\n",
       "\n",
       "    .dataframe tbody tr th {\n",
       "        vertical-align: top;\n",
       "    }\n",
       "\n",
       "    .dataframe thead th {\n",
       "        text-align: right;\n",
       "    }\n",
       "</style>\n",
       "<table border=\"1\" class=\"dataframe\">\n",
       "  <thead>\n",
       "    <tr style=\"text-align: right;\">\n",
       "      <th></th>\n",
       "      <th>Pregnancies</th>\n",
       "      <th>Glucose</th>\n",
       "      <th>BloodPressure</th>\n",
       "      <th>SkinThickness</th>\n",
       "      <th>Insulin</th>\n",
       "      <th>BMI</th>\n",
       "      <th>DiabetesPedigreeFunction</th>\n",
       "      <th>Age</th>\n",
       "    </tr>\n",
       "  </thead>\n",
       "  <tbody>\n",
       "    <tr>\n",
       "      <th>668</th>\n",
       "      <td>6</td>\n",
       "      <td>98</td>\n",
       "      <td>58</td>\n",
       "      <td>33</td>\n",
       "      <td>190</td>\n",
       "      <td>34.0</td>\n",
       "      <td>0.430</td>\n",
       "      <td>43</td>\n",
       "    </tr>\n",
       "    <tr>\n",
       "      <th>324</th>\n",
       "      <td>2</td>\n",
       "      <td>112</td>\n",
       "      <td>75</td>\n",
       "      <td>32</td>\n",
       "      <td>0</td>\n",
       "      <td>35.7</td>\n",
       "      <td>0.148</td>\n",
       "      <td>21</td>\n",
       "    </tr>\n",
       "    <tr>\n",
       "      <th>624</th>\n",
       "      <td>2</td>\n",
       "      <td>108</td>\n",
       "      <td>64</td>\n",
       "      <td>0</td>\n",
       "      <td>0</td>\n",
       "      <td>30.8</td>\n",
       "      <td>0.158</td>\n",
       "      <td>21</td>\n",
       "    </tr>\n",
       "    <tr>\n",
       "      <th>690</th>\n",
       "      <td>8</td>\n",
       "      <td>107</td>\n",
       "      <td>80</td>\n",
       "      <td>0</td>\n",
       "      <td>0</td>\n",
       "      <td>24.6</td>\n",
       "      <td>0.856</td>\n",
       "      <td>34</td>\n",
       "    </tr>\n",
       "    <tr>\n",
       "      <th>473</th>\n",
       "      <td>7</td>\n",
       "      <td>136</td>\n",
       "      <td>90</td>\n",
       "      <td>0</td>\n",
       "      <td>0</td>\n",
       "      <td>29.9</td>\n",
       "      <td>0.210</td>\n",
       "      <td>50</td>\n",
       "    </tr>\n",
       "    <tr>\n",
       "      <th>...</th>\n",
       "      <td>...</td>\n",
       "      <td>...</td>\n",
       "      <td>...</td>\n",
       "      <td>...</td>\n",
       "      <td>...</td>\n",
       "      <td>...</td>\n",
       "      <td>...</td>\n",
       "      <td>...</td>\n",
       "    </tr>\n",
       "    <tr>\n",
       "      <th>198</th>\n",
       "      <td>4</td>\n",
       "      <td>109</td>\n",
       "      <td>64</td>\n",
       "      <td>44</td>\n",
       "      <td>99</td>\n",
       "      <td>34.8</td>\n",
       "      <td>0.905</td>\n",
       "      <td>26</td>\n",
       "    </tr>\n",
       "    <tr>\n",
       "      <th>538</th>\n",
       "      <td>0</td>\n",
       "      <td>127</td>\n",
       "      <td>80</td>\n",
       "      <td>37</td>\n",
       "      <td>210</td>\n",
       "      <td>36.3</td>\n",
       "      <td>0.804</td>\n",
       "      <td>23</td>\n",
       "    </tr>\n",
       "    <tr>\n",
       "      <th>329</th>\n",
       "      <td>6</td>\n",
       "      <td>105</td>\n",
       "      <td>70</td>\n",
       "      <td>32</td>\n",
       "      <td>68</td>\n",
       "      <td>30.8</td>\n",
       "      <td>0.122</td>\n",
       "      <td>37</td>\n",
       "    </tr>\n",
       "    <tr>\n",
       "      <th>302</th>\n",
       "      <td>5</td>\n",
       "      <td>77</td>\n",
       "      <td>82</td>\n",
       "      <td>41</td>\n",
       "      <td>42</td>\n",
       "      <td>35.8</td>\n",
       "      <td>0.156</td>\n",
       "      <td>35</td>\n",
       "    </tr>\n",
       "    <tr>\n",
       "      <th>800</th>\n",
       "      <td>6</td>\n",
       "      <td>148</td>\n",
       "      <td>72</td>\n",
       "      <td>35</td>\n",
       "      <td>0</td>\n",
       "      <td>33.6</td>\n",
       "      <td>0.627</td>\n",
       "      <td>50</td>\n",
       "    </tr>\n",
       "  </tbody>\n",
       "</table>\n",
       "<p>232 rows × 8 columns</p>\n",
       "</div>"
      ],
      "text/plain": [
       "     Pregnancies  Glucose  BloodPressure  SkinThickness  Insulin   BMI  \\\n",
       "668            6       98             58             33      190  34.0   \n",
       "324            2      112             75             32        0  35.7   \n",
       "624            2      108             64              0        0  30.8   \n",
       "690            8      107             80              0        0  24.6   \n",
       "473            7      136             90              0        0  29.9   \n",
       "..           ...      ...            ...            ...      ...   ...   \n",
       "198            4      109             64             44       99  34.8   \n",
       "538            0      127             80             37      210  36.3   \n",
       "329            6      105             70             32       68  30.8   \n",
       "302            5       77             82             41       42  35.8   \n",
       "800            6      148             72             35        0  33.6   \n",
       "\n",
       "     DiabetesPedigreeFunction  Age  \n",
       "668                     0.430   43  \n",
       "324                     0.148   21  \n",
       "624                     0.158   21  \n",
       "690                     0.856   34  \n",
       "473                     0.210   50  \n",
       "..                        ...  ...  \n",
       "198                     0.905   26  \n",
       "538                     0.804   23  \n",
       "329                     0.122   37  \n",
       "302                     0.156   35  \n",
       "800                     0.627   50  \n",
       "\n",
       "[232 rows x 8 columns]"
      ]
     },
     "execution_count": 42,
     "metadata": {},
     "output_type": "execute_result"
    }
   ],
   "source": [
    "X_teshis_person"
   ]
  },
  {
   "cell_type": "code",
   "execution_count": 43,
   "metadata": {},
   "outputs": [],
   "source": [
    "scaler.fit(X_teshis_person)\n",
    "X_teshis_person_scaled = scaler.transform(X_teshis_person)"
   ]
  },
  {
   "cell_type": "code",
   "execution_count": 44,
   "metadata": {},
   "outputs": [
    {
     "data": {
      "text/plain": [
       "array([[ 0.52194989, -0.74358835, -0.44636067, ...,  0.23241834,\n",
       "        -0.15466352,  0.77866082],\n",
       "       [-0.59410886, -0.29324806,  0.3298503 , ...,  0.43388162,\n",
       "        -1.08120009, -1.0629911 ],\n",
       "       [-0.59410886, -0.42191672, -0.17240386, ..., -0.14680666,\n",
       "        -1.04834419, -1.0629911 ],\n",
       "       ...,\n",
       "       [ 0.52194989, -0.51841821,  0.10155296, ..., -0.14680666,\n",
       "        -1.16662545,  0.27639212],\n",
       "       [ 0.2429352 , -1.41909879,  0.64946659, ...,  0.4457324 ,\n",
       "        -1.05491537,  0.10896922],\n",
       "       [ 0.52194989,  0.86476982,  0.1928719 , ...,  0.18501521,\n",
       "         0.49259785,  1.36464098]])"
      ]
     },
     "execution_count": 44,
     "metadata": {},
     "output_type": "execute_result"
    }
   ],
   "source": [
    "X_teshis_person_scaled"
   ]
  },
  {
   "cell_type": "code",
   "execution_count": 45,
   "metadata": {},
   "outputs": [],
   "source": [
    "teshis_person = X_teshis_person_scaled[-1]\n",
    "\n",
    "teshis_person = pd.Series(teshis_person).values.reshape(1,-1)"
   ]
  },
  {
   "cell_type": "code",
   "execution_count": 48,
   "metadata": {},
   "outputs": [
    {
     "name": "stdout",
     "output_type": "stream",
     "text": [
      "Tahmin sonucu : [1]\n",
      "Diyabet teşhisi konulmuştur.\n"
     ]
    }
   ],
   "source": [
    "y_teshis_person = mlpc_tuned.predict(teshis_person)\n",
    "\n",
    "y_teshis_person \n",
    "\n",
    "print(\"Tahmin sonucu : \" + str(y_teshis_person))\n",
    "if y_teshis_person == 1:\n",
    "    print('Diyabet teşhisi konulmuştur.')\n",
    "else:\n",
    "    print('Diyabet değilsiniz.')"
   ]
  },
  {
   "cell_type": "code",
   "execution_count": null,
   "metadata": {},
   "outputs": [],
   "source": []
  },
  {
   "cell_type": "code",
   "execution_count": null,
   "metadata": {},
   "outputs": [],
   "source": []
  }
 ],
 "metadata": {
  "kernelspec": {
   "display_name": "Python 3",
   "language": "python",
   "name": "python3"
  },
  "language_info": {
   "codemirror_mode": {
    "name": "ipython",
    "version": 3
   },
   "file_extension": ".py",
   "mimetype": "text/x-python",
   "name": "python",
   "nbconvert_exporter": "python",
   "pygments_lexer": "ipython3",
   "version": "3.7.6"
  }
 },
 "nbformat": 4,
 "nbformat_minor": 4
}
